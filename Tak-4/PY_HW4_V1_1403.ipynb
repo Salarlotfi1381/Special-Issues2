{
 "cells": [
  {
   "cell_type": "code",
   "execution_count": 1,
   "metadata": {},
   "outputs": [],
   "source": [
    "import re"
   ]
  },
  {
   "cell_type": "code",
   "execution_count": 2,
   "metadata": {},
   "outputs": [],
   "source": [
    "def validateName(name):\n",
    "    nparts = name.split()\n",
    "    #print(f'{name}, #original chars: {len(name)}, #words: {len(nparts)}, #nparts chars: {len(\" \".join(nparts))}, nparts str: {\" \".join(nparts)}')\n",
    "    if len(nparts) < 7:\n",
    "        namePattern = r'^[a-zA-Z ]{1,30}$'\n",
    "        if re.search(namePattern, \" \".join(nparts)):\n",
    "            return True\n",
    "    return False\n",
    "\n",
    "# n = input('name: ')\n",
    "# print(validateName(n))"
   ]
  },
  {
   "cell_type": "code",
   "execution_count": 3,
   "metadata": {},
   "outputs": [],
   "source": [
    "def validateBDate(bdate):\n",
    "    datePt = r'^\\d{1,2}-\\d{1,2}-\\d{4}$|^\\d{4}-\\d{1,2}-\\d{1,2}$|^\\d{4}/\\d{1,2}/\\d{1,2}$'\n",
    "    if re.search(datePt, bdate):\n",
    "        dparts = re.split('[/-]',bdate)\n",
    "        if len(dparts[0]) == 4 : \n",
    "            yIndex = 0 #Year\n",
    "            dIndex = 2 # Day\n",
    "        else:\n",
    "            yIndex = 2 #Year\n",
    "            dIndex = 0 # Day\n",
    "        if not (1200 <= int(dparts[yIndex]) <= 1403 or 1900 <= int(dparts[yIndex]) <= 2024):\n",
    "            return False\n",
    "        if not (1 <= int(dparts[1]) <= 12):\n",
    "            return False\n",
    "        if not (1 <= int(dparts[dIndex]) <= 31):\n",
    "            return False\n",
    "        return True\n",
    "    else:\n",
    "        return False\n",
    "\n",
    "# d = input(\"date: \")\n",
    "# validateBDate(d)"
   ]
  },
  {
   "cell_type": "code",
   "execution_count": 4,
   "metadata": {},
   "outputs": [],
   "source": [
    "def validateEmail(email):\n",
    "    emailPt = r'^[\\w-]{5,}@([a-zA-Z]+\\.)+[a-zA-Z]+$'\n",
    "    if re.search(emailPt, email):\n",
    "        return True\n",
    "    return False\n",
    "\n",
    "# e = input('email: ')\n",
    "# validateEmail(e)"
   ]
  },
  {
   "cell_type": "code",
   "execution_count": 5,
   "metadata": {},
   "outputs": [],
   "source": [
    "def validatePhone(phone):\n",
    "    phonePt1 = r'^0[1-9]\\d-\\d{4}-\\d{4}$|^0[1-9]\\d{2}-\\d{3}-\\d{4}$|^0[1-9]\\d \\d{4} \\d{4}$|^0[1-9]\\d{2} \\d{3} \\d{4}$|^0[1-9]\\d{9}$'\n",
    "    phonePt2 = r'^[+][1-9]\\d{0,2}[ -][1-9]\\d-\\d{4}-\\d{4}$|^[+][1-9]\\d{0,2}[ -][1-9]\\d{2}-\\d{3}-\\d{4}$|^[+][1-9]\\d{0,2}[ -][1-9]\\d \\d{4} \\d{4}$|^[+][1-9]\\d{0,2}[ -][1-9]\\d{2} \\d{3} \\d{4}$|^[+][1-9]\\d{0,2}[ -][1-9]\\d{9}$'\n",
    "    if re.search(phonePt1, phone):\n",
    "        print('1')\n",
    "        return True\n",
    "    elif re.search(phonePt2, phone):\n",
    "        print('2')\n",
    "        return True\n",
    "    return False\n",
    "\n",
    "# p = input('email: ')\n",
    "# validatePhone(p)"
   ]
  },
  {
   "cell_type": "code",
   "execution_count": 6,
   "metadata": {},
   "outputs": [],
   "source": [
    "def validateUName(username):\n",
    "    unamePt = r'^[a-zA-Z]\\S{3,9}$'\n",
    "    if re.search(unamePt, username):\n",
    "        return True\n",
    "    return False\n",
    "\n",
    "# u = input('username: ')\n",
    "# validateUName(u)"
   ]
  },
  {
   "cell_type": "code",
   "execution_count": 7,
   "metadata": {},
   "outputs": [],
   "source": [
    "def validatePass(password):\n",
    "    passPt1 = r'^[\\w@$!%*?&\\\\]{8,}$'\n",
    "    passPt2 = r'[a-z]+'\n",
    "    passPt3 = r'[A-Z]+'\n",
    "    passPt4 = r'[\\d]+'\n",
    "    passPt5 = r'[@$!%_*?&\\\\]+'\n",
    "    # and \n",
    "    if re.search(passPt1, password) :\n",
    "#         print(1)\n",
    "        if re.search(passPt2, password) :\n",
    "#             print(2)\n",
    "            if re.search(passPt3, password) :\n",
    "#                 print(3)\n",
    "                if re.search(passPt4, password):\n",
    "#                     print(4)\n",
    "                    if re.search(passPt5, password):\n",
    "#                         print(5)\n",
    "                        return True\n",
    "    return False\n",
    "\n",
    "# p = input('password: ')\n",
    "# validatePass(p)"
   ]
  },
  {
   "cell_type": "code",
   "execution_count": 10,
   "metadata": {},
   "outputs": [],
   "source": [
    "def getUser(name=None,bdate=None,email=None,phone=None,username=None,password=None):\n",
    "    flag = True\n",
    "    user = dict()\n",
    "    if name is None:\n",
    "        name = input('Fullname: ')\n",
    "    if bdate is None:\n",
    "        bdate = input('Birth Date: ')\n",
    "    if email is None:\n",
    "        email = input('Email Address: ')\n",
    "    if phone is None:\n",
    "        phone = input('Phone Number: ')\n",
    "    if username is None:\n",
    "        username = input('Username: ')\n",
    "    if password is None:\n",
    "        password = input('Password: ')\n",
    "        \n",
    "    if not validateName(name):\n",
    "        print('Wrong Name!')\n",
    "        flag = False\n",
    "    if not validateBDate(bdate):\n",
    "        print('Wrong Birth Date!')\n",
    "        flag = False\n",
    "    if not validateEmail(email):\n",
    "        print('Wrong Email Address!')\n",
    "        flag = False\n",
    "    if not validatePhone(phone):\n",
    "        print('Wrong Phone Number!')\n",
    "        flag = False\n",
    "    if not validateUName(username):\n",
    "        print('Wrong Username!')\n",
    "        flag = False\n",
    "    if not validatePass(password):\n",
    "        print('Wrong Password!')\n",
    "        flag = False\n",
    "    if flag :\n",
    "        user = {'name':name, 'bdate':bdate, 'email':email, 'phone':phone, 'uname':username, 'pass':password}\n",
    "        return user\n",
    "    else:\n",
    "        return None"
   ]
  },
  {
   "cell_type": "code",
   "execution_count": 8,
   "metadata": {},
   "outputs": [],
   "source": [
    "def loadUsersFile():\n",
    "    usersList = []\n",
    "    try:\n",
    "        ufile = open('usersInfo.txt','r')\n",
    "        for line in ufile:\n",
    "            info = line.rstrip().split(',')\n",
    "            u = getUser(info[0],info[1],info[2],info[3],info[4],info[5])\n",
    "            if u is not None:\n",
    "                usersList.append(u)\n",
    "    except:\n",
    "        print('usersInfo.txt could not be opened!!!')\n",
    "    return usersList"
   ]
  },
  {
   "cell_type": "code",
   "execution_count": 9,
   "metadata": {},
   "outputs": [],
   "source": [
    "def saveUsers(usersList):\n",
    "    try:\n",
    "        ufile = open('usersInfo.txt','w')\n",
    "        for u in usersList:\n",
    "            for ui in u.values() :\n",
    "                info = \",\".join(ui)#info['name']+info['bdate'],info['email'],info['phone'],info['uname'],info['pass'])\n",
    "            ufile.write(info+\"\\n\")\n",
    "        ufile.close()\n",
    "    except:\n",
    "        print('usersInfo.txt could not be opened!!!')"
   ]
  },
  {
   "cell_type": "code",
   "execution_count": 11,
   "metadata": {},
   "outputs": [
    {
     "name": "stdout",
     "output_type": "stream",
     "text": [
      "-------------------\n",
      "1. Insert\n",
      "2. Load form File\n",
      "3. Save\n",
      "4. Exit\n"
     ]
    },
    {
     "ename": "KeyboardInterrupt",
     "evalue": "Interrupted by user",
     "output_type": "error",
     "traceback": [
      "\u001b[0;31m---------------------------------------------------------------------------\u001b[0m",
      "\u001b[0;31mKeyboardInterrupt\u001b[0m                         Traceback (most recent call last)",
      "\u001b[0;32m/var/folders/bm/zhq_b9810h7bzwf2r4knhjkw0000gn/T/ipykernel_88511/3849768056.py\u001b[0m in \u001b[0;36m<module>\u001b[0;34m\u001b[0m\n\u001b[1;32m     20\u001b[0m             \u001b[0mprint\u001b[0m\u001b[0;34m(\u001b[0m\u001b[0;34m'Wrong Command!'\u001b[0m\u001b[0;34m)\u001b[0m\u001b[0;34m\u001b[0m\u001b[0;34m\u001b[0m\u001b[0m\n\u001b[1;32m     21\u001b[0m \u001b[0;34m\u001b[0m\u001b[0m\n\u001b[0;32m---> 22\u001b[0;31m \u001b[0mmainMenu\u001b[0m\u001b[0;34m(\u001b[0m\u001b[0;34m)\u001b[0m\u001b[0;34m\u001b[0m\u001b[0;34m\u001b[0m\u001b[0m\n\u001b[0m",
      "\u001b[0;32m/var/folders/bm/zhq_b9810h7bzwf2r4knhjkw0000gn/T/ipykernel_88511/3849768056.py\u001b[0m in \u001b[0;36mmainMenu\u001b[0;34m()\u001b[0m\n\u001b[1;32m      3\u001b[0m     \u001b[0;32mwhile\u001b[0m \u001b[0;32mTrue\u001b[0m\u001b[0;34m:\u001b[0m\u001b[0;34m\u001b[0m\u001b[0;34m\u001b[0m\u001b[0m\n\u001b[1;32m      4\u001b[0m         \u001b[0mprint\u001b[0m\u001b[0;34m(\u001b[0m\u001b[0;34m\"-------------------\\n1. Insert\\n2. Load form File\\n3. Save\\n4. Exit\"\u001b[0m\u001b[0;34m)\u001b[0m\u001b[0;34m\u001b[0m\u001b[0;34m\u001b[0m\u001b[0m\n\u001b[0;32m----> 5\u001b[0;31m         \u001b[0mcommand\u001b[0m \u001b[0;34m=\u001b[0m \u001b[0minput\u001b[0m\u001b[0;34m(\u001b[0m\u001b[0;34m\"Your Choice\"\u001b[0m\u001b[0;34m)\u001b[0m\u001b[0;34m\u001b[0m\u001b[0;34m\u001b[0m\u001b[0m\n\u001b[0m\u001b[1;32m      6\u001b[0m         \u001b[0mprint\u001b[0m \u001b[0;34m(\u001b[0m\u001b[0;34mrf\"{command}\"\u001b[0m\u001b[0;34m)\u001b[0m\u001b[0;34m\u001b[0m\u001b[0;34m\u001b[0m\u001b[0m\n\u001b[1;32m      7\u001b[0m         \u001b[0;32mif\u001b[0m \u001b[0mcommand\u001b[0m \u001b[0;34m==\u001b[0m \u001b[0;34m'1'\u001b[0m\u001b[0;34m:\u001b[0m\u001b[0;34m\u001b[0m\u001b[0;34m\u001b[0m\u001b[0m\n",
      "\u001b[0;32m~/opt/anaconda3/lib/python3.7/site-packages/ipykernel/kernelbase.py\u001b[0m in \u001b[0;36mraw_input\u001b[0;34m(self, prompt)\u001b[0m\n\u001b[1;32m   1008\u001b[0m             \u001b[0mself\u001b[0m\u001b[0;34m.\u001b[0m\u001b[0m_parent_ident\u001b[0m\u001b[0;34m[\u001b[0m\u001b[0;34m\"shell\"\u001b[0m\u001b[0;34m]\u001b[0m\u001b[0;34m,\u001b[0m\u001b[0;34m\u001b[0m\u001b[0;34m\u001b[0m\u001b[0m\n\u001b[1;32m   1009\u001b[0m             \u001b[0mself\u001b[0m\u001b[0;34m.\u001b[0m\u001b[0mget_parent\u001b[0m\u001b[0;34m(\u001b[0m\u001b[0;34m\"shell\"\u001b[0m\u001b[0;34m)\u001b[0m\u001b[0;34m,\u001b[0m\u001b[0;34m\u001b[0m\u001b[0;34m\u001b[0m\u001b[0m\n\u001b[0;32m-> 1010\u001b[0;31m             \u001b[0mpassword\u001b[0m\u001b[0;34m=\u001b[0m\u001b[0;32mFalse\u001b[0m\u001b[0;34m,\u001b[0m\u001b[0;34m\u001b[0m\u001b[0;34m\u001b[0m\u001b[0m\n\u001b[0m\u001b[1;32m   1011\u001b[0m         )\n\u001b[1;32m   1012\u001b[0m \u001b[0;34m\u001b[0m\u001b[0m\n",
      "\u001b[0;32m~/opt/anaconda3/lib/python3.7/site-packages/ipykernel/kernelbase.py\u001b[0m in \u001b[0;36m_input_request\u001b[0;34m(self, prompt, ident, parent, password)\u001b[0m\n\u001b[1;32m   1049\u001b[0m             \u001b[0;32mexcept\u001b[0m \u001b[0mKeyboardInterrupt\u001b[0m\u001b[0;34m:\u001b[0m\u001b[0;34m\u001b[0m\u001b[0;34m\u001b[0m\u001b[0m\n\u001b[1;32m   1050\u001b[0m                 \u001b[0;31m# re-raise KeyboardInterrupt, to truncate traceback\u001b[0m\u001b[0;34m\u001b[0m\u001b[0;34m\u001b[0m\u001b[0;34m\u001b[0m\u001b[0m\n\u001b[0;32m-> 1051\u001b[0;31m                 \u001b[0;32mraise\u001b[0m \u001b[0mKeyboardInterrupt\u001b[0m\u001b[0;34m(\u001b[0m\u001b[0;34m\"Interrupted by user\"\u001b[0m\u001b[0;34m)\u001b[0m \u001b[0;32mfrom\u001b[0m \u001b[0;32mNone\u001b[0m\u001b[0;34m\u001b[0m\u001b[0;34m\u001b[0m\u001b[0m\n\u001b[0m\u001b[1;32m   1052\u001b[0m             \u001b[0;32mexcept\u001b[0m \u001b[0mException\u001b[0m\u001b[0;34m:\u001b[0m\u001b[0;34m\u001b[0m\u001b[0;34m\u001b[0m\u001b[0m\n\u001b[1;32m   1053\u001b[0m                 \u001b[0mself\u001b[0m\u001b[0;34m.\u001b[0m\u001b[0mlog\u001b[0m\u001b[0;34m.\u001b[0m\u001b[0mwarning\u001b[0m\u001b[0;34m(\u001b[0m\u001b[0;34m\"Invalid Message:\"\u001b[0m\u001b[0;34m,\u001b[0m \u001b[0mexc_info\u001b[0m\u001b[0;34m=\u001b[0m\u001b[0;32mTrue\u001b[0m\u001b[0;34m)\u001b[0m\u001b[0;34m\u001b[0m\u001b[0;34m\u001b[0m\u001b[0m\n",
      "\u001b[0;31mKeyboardInterrupt\u001b[0m: Interrupted by user"
     ]
    }
   ],
   "source": [
    "def mainMenu():\n",
    "    usersList = []\n",
    "    while True:\n",
    "        print(\"-------------------\\n1. Insert\\n2. Load form File\\n3. Save\\n4. Exit\")\n",
    "        command = input(\"Your Choice\")\n",
    "        print (rf\"{command}\")\n",
    "        if command == '1':\n",
    "            flag = True\n",
    "            u = getUser()\n",
    "            if u is not None:\n",
    "                usersList.append(getUser())\n",
    "        elif command == '2':\n",
    "            usersList = loadUsersFile()\n",
    "        elif command == '3':\n",
    "            saveUsers(usersList)\n",
    "        elif command == '4':\n",
    "            print('Goodbye...')\n",
    "            break\n",
    "        else:\n",
    "            print('Wrong Command!')\n",
    "\n",
    "mainMenu()"
   ]
  },
  {
   "cell_type": "code",
   "execution_count": null,
   "metadata": {},
   "outputs": [],
   "source": [
    "a = [1,2]\n",
    "a.append(None)\n",
    "print(a)"
   ]
  },
  {
   "cell_type": "code",
   "execution_count": null,
   "metadata": {},
   "outputs": [],
   "source": []
  }
 ],
 "metadata": {
  "kernelspec": {
   "display_name": "Python 3 (ipykernel)",
   "language": "python",
   "name": "python3"
  },
  "language_info": {
   "codemirror_mode": {
    "name": "ipython",
    "version": 3
   },
   "file_extension": ".py",
   "mimetype": "text/x-python",
   "name": "python",
   "nbconvert_exporter": "python",
   "pygments_lexer": "ipython3",
   "version": "3.7.13"
  }
 },
 "nbformat": 4,
 "nbformat_minor": 4
}
