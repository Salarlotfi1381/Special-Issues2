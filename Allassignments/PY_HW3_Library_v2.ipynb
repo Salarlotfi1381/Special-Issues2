{
 "cells": [
  {
   "cell_type": "markdown",
   "metadata": {},
   "source": [
    "## Make Users and Books Dictionaries"
   ]
  },
  {
   "cell_type": "code",
   "execution_count": 1,
   "metadata": {},
   "outputs": [],
   "source": [
    "usersInfo = dict()\n",
    "books = dict()\n",
    "\n",
    "def makeDictionaries() :\n",
    "    \n",
    "    try:\n",
    "        userFile = open(\"usersInfo.txt\",\"r\")\n",
    "        lines = userFile.readlines()\n",
    "        for line in lines :\n",
    "            info = line.rstrip().split(',')\n",
    "            usersInfo[info[0]] = {'pass':info[1],'numBooks':int(info[2]), 'borrowed':info[3:]}\n",
    "    except:\n",
    "        print(\"UsersInfo file is not accessible!\") \n",
    "        \n",
    "    try:\n",
    "        booksFile = open(\"books.txt\",\"r\")\n",
    "        lines = booksFile.readlines()\n",
    "        for line in lines[:]:\n",
    "            isbn,title,author,count = tuple(line.rstrip().split(','))\n",
    "            books[isbn] = {'title':title,'author':author,'copies':int(count)}\n",
    "    except:\n",
    "        print(\"Books file is not accessible!\")\n",
    "    return"
   ]
  },
  {
   "cell_type": "markdown",
   "metadata": {},
   "source": [
    "## Manage login to the system"
   ]
  },
  {
   "cell_type": "code",
   "execution_count": 2,
   "metadata": {},
   "outputs": [],
   "source": [
    "def login():\n",
    "    username = input(\"Enter a Username:\")\n",
    "    password = input(\"Enter a Password:\")\n",
    "\n",
    "    if username in usersInfo :\n",
    "        if usersInfo[username]['pass'] == password :\n",
    "            return username\n",
    "    \n",
    "    print(\"ERROR: Wrong Username or Password! try again...\")\n",
    "    return False"
   ]
  },
  {
   "cell_type": "markdown",
   "metadata": {},
   "source": [
    "## Insert a new book"
   ]
  },
  {
   "cell_type": "code",
   "execution_count": 3,
   "metadata": {},
   "outputs": [],
   "source": [
    "def add_book():\n",
    "    isbn = input(\"ISBN Number: \")\n",
    "    if isbn not in books :\n",
    "        title = input(\"Book Title:\")\n",
    "        author = input(\"Author:\")\n",
    "        try:\n",
    "            copies = int(input(\"Number of copies: \"))\n",
    "        except:\n",
    "            print('WRONG Input!! Number of copies was set to \"1\".')\n",
    "            copies = 1\n",
    "        books[isbn] = {\"title\": title, \"author\": author, \"copies\": copies}\n",
    "        print(f\"Book '{title}' was added successfully.\")\n",
    "    else :\n",
    "        print(\"Sorry! A book with this ISBN already exists.\")"
   ]
  },
  {
   "cell_type": "markdown",
   "metadata": {},
   "source": [
    "## Delete an existing book"
   ]
  },
  {
   "cell_type": "code",
   "execution_count": 4,
   "metadata": {},
   "outputs": [],
   "source": [
    "def delete_book():\n",
    "    isbn = input(\"ISBN Number: \")\n",
    "    if isbn in books :\n",
    "        b = books.pop(isbn)\n",
    "        for _,value in usersInfo.items():\n",
    "            if isbn in value['borrowed']:\n",
    "                value['borrowed'].remove(isbn)\n",
    "                value['numBooks'] -= 1\n",
    "        print(f\"Book '{b['title']}' was deleted successfully.\")\n",
    "    else :\n",
    "        print(\"Sorry! no book is matched with this ISBN.\")"
   ]
  },
  {
   "cell_type": "markdown",
   "metadata": {},
   "source": [
    "## Borrow a book"
   ]
  },
  {
   "cell_type": "code",
   "execution_count": 5,
   "metadata": {},
   "outputs": [],
   "source": [
    "def borrow_book(user):\n",
    "    if usersInfo[user]['numBooks']<3:\n",
    "        isbn = input(\"ISBN book number: \")\n",
    "        if isbn in books and books[isbn][\"copies\"] > 0:\n",
    "            if isbn not in usersInfo[user]['borrowed']:\n",
    "                books[isbn]['copies'] -= 1\n",
    "                usersInfo[user]['numBooks'] += 1\n",
    "                usersInfo[user]['borrowed'].append(isbn)\n",
    "                print(f\"The book '{books[isbn]['title']}' has been borrowed.\")\n",
    "            else:\n",
    "                print(\"OOPs!! You have already borrowed the book.\")\n",
    "        else:\n",
    "            print(\"The book was not found or there are no copies left to borrow.\")\n",
    "    else:\n",
    "        print(\"Sorry!! Your borrowing limit reached! You are not allowed to borrow any more books.\")\n",
    "    "
   ]
  },
  {
   "cell_type": "markdown",
   "metadata": {},
   "source": [
    "## Returning a borrowed book"
   ]
  },
  {
   "cell_type": "code",
   "execution_count": 6,
   "metadata": {},
   "outputs": [],
   "source": [
    "def return_book(user):\n",
    "    isbn = input(\"ISBN book number: \")\n",
    "    if isbn in books and isbn in usersInfo[user]['borrowed']:\n",
    "        books[isbn][\"copies\"] += 1\n",
    "        usersInfo[user]['numBooks'] -= 1\n",
    "        usersInfo[user]['borrowed'].remove(isbn)\n",
    "        print(f\"Book '{books[isbn]['title']}' was returned.\")\n",
    "    else:\n",
    "        print(\"This book was not found or there is not on your borrowed list.\")\n"
   ]
  },
  {
   "cell_type": "markdown",
   "metadata": {},
   "source": [
    "## Search a book"
   ]
  },
  {
   "cell_type": "code",
   "execution_count": 7,
   "metadata": {},
   "outputs": [],
   "source": [
    "def search_book():\n",
    "    search_term = input(\"Title or author of the book: \").lower()\n",
    "    results = []\n",
    "    for book in books.values():\n",
    "        if search_term in book[\"title\"].lower() or search_term in book[\"author\"].lower():\n",
    "            results.append(book)\n",
    "    if results:\n",
    "        i = 1\n",
    "        for book in results:\n",
    "            print(f\"{i}, Title: {book['title']}, author: {book['author']}, number of copies: {book['copies']}\")\n",
    "            i += 1\n",
    "    else:\n",
    "        print(\"No book was found.\")"
   ]
  },
  {
   "cell_type": "markdown",
   "metadata": {},
   "source": [
    "## List of borrowed books"
   ]
  },
  {
   "cell_type": "code",
   "execution_count": 8,
   "metadata": {},
   "outputs": [],
   "source": [
    "def show_borrowed_books(user):\n",
    "    if usersInfo[user]['borrowed']:\n",
    "        i = 1\n",
    "        for isbn in usersInfo[user]['borrowed']:\n",
    "            book = books[isbn]\n",
    "            print(f\"{i}, Title: {book['title']}, Author: {book['author']}\")\n",
    "            i+=1\n",
    "    else:\n",
    "        print(\"No books have been borrowed yet.\")"
   ]
  },
  {
   "cell_type": "markdown",
   "metadata": {},
   "source": [
    "## Update data files"
   ]
  },
  {
   "cell_type": "code",
   "execution_count": 9,
   "metadata": {},
   "outputs": [],
   "source": [
    "def update_files() :\n",
    "    try:\n",
    "        userFile = open(\"usersInfo.txt\",\"w\")\n",
    "        for user, value in usersInfo.items() :\n",
    "            line = f\"{user},{value['pass']},{value['numBooks']}\"\n",
    "            for isbn in value['borrowed']:\n",
    "                line += f\",{isbn}\"\n",
    "            line += \"\\n\"\n",
    "            userFile.write(line)\n",
    "        userFile.close()\n",
    "        print(\"UsersInfo.txt was updated successfully.\")\n",
    "    except:\n",
    "        print(\"UsersInfo file is not accessible!\") \n",
    "\n",
    "    try:\n",
    "        booksFile = open(\"books.txt\",\"w\")\n",
    "        for isbn,value in books.items() :\n",
    "            line = f\"{isbn},{value['title']},{value['author']},{value['copies']}\\n\"\n",
    "            booksFile.write(line)\n",
    "        booksFile.close()\n",
    "        print(\"books.txt was updated successfully.\")\n",
    "    except:\n",
    "        print(\"Books file is not accessible!\")\n",
    "\n",
    "    return"
   ]
  },
  {
   "cell_type": "markdown",
   "metadata": {},
   "source": [
    "## Handle Library Operations Menu"
   ]
  },
  {
   "cell_type": "code",
   "execution_count": 10,
   "metadata": {},
   "outputs": [],
   "source": [
    "def libraryMenu(username):\n",
    "    print('\\nWelcome Dear ' + username)\n",
    "    while True:\n",
    "        print('-'.center(30,'-'))\n",
    "        print(\"1. Insert New Book\")\n",
    "        print(\"2. Delete Book\")\n",
    "        print(\"3. Search\")\n",
    "        print(\"4. Borrow Book\")\n",
    "        print(\"5. Return Book\")\n",
    "        print(\"6. Report of Borrowed Books\")\n",
    "        print(\"7. Update Files\")\n",
    "        print(\"8. Logout\")\n",
    "        choice = input(\"Enter Your Choice (1 - 8):\")\n",
    "        print(usersInfo)\n",
    "        print(books)\n",
    "        print('-'.center(30,'-'))\n",
    "        if choice == '1':\n",
    "            add_book()\n",
    "        elif choice == '2':\n",
    "            delete_book()\n",
    "        elif choice == '3':\n",
    "            search_book()\n",
    "        elif choice == '4':\n",
    "            borrow_book(username)\n",
    "        elif choice == '5':\n",
    "            return_book(username)\n",
    "        elif choice == '6':\n",
    "            show_borrowed_books(username)\n",
    "        elif choice == '7':\n",
    "            update_files()\n",
    "        elif choice == '8':\n",
    "            print(\"Logged out.\")\n",
    "            break\n",
    "        else:\n",
    "            print(\"The selection is invalid. Please try again.\")\n",
    "    return"
   ]
  },
  {
   "cell_type": "markdown",
   "metadata": {},
   "source": [
    "## Show Login menu"
   ]
  },
  {
   "cell_type": "code",
   "execution_count": null,
   "metadata": {},
   "outputs": [
    {
     "name": "stdout",
     "output_type": "stream",
     "text": [
      "\n",
      "1. Login\n",
      "2. Exit\n",
      "Enter Your Choice (1 or 2):1\n",
      "Enter a Username:reza\n",
      "Enter a Password:1234\n",
      "ERROR: Wrong Username or Password! try again...\n",
      "\n",
      "1. Login\n",
      "2. Exit\n",
      "Enter Your Choice (1 or 2):1\n",
      "Enter a Username:reza\n",
      "Enter a Password:1010\n",
      "\n",
      "Welcome Dear reza\n",
      "------------------------------\n",
      "1. Insert New Book\n",
      "2. Delete Book\n",
      "3. Search\n",
      "4. Borrow Book\n",
      "5. Return Book\n",
      "6. Report of Borrowed Books\n",
      "7. Update Files\n",
      "8. Logout\n",
      "Enter Your Choice (1 - 8):6\n",
      "{'ali': {'pass': '111', 'numBooks': 3, 'borrowed': ['2222-1111', '1100-2200', '4444-4444']}, 'reza': {'pass': '1010', 'numBooks': 2, 'borrowed': ['1100-2200', '2222-1111']}, 'roya': {'pass': 'r0y4', 'numBooks': 2, 'borrowed': ['7766-4422', '1919-2020']}}\n",
      "{'1100-2200': {'title': 'History of Love', 'author': 'Nelson Amandella', 'copies': 3}, '2222-1111': {'title': 'Justin time: the mummy', 'author': 'Antony Moller', 'copies': 0}, '4444-4444': {'title': 'Killer Bill', 'author': 'Dorian Monster', 'copies': 4}, '5555-1020': {'title': 'The Curious Incident of the Dog in the Night-Time', 'author': 'Mark Haddon', 'copies': 2}, '1919-2020': {'title': 'The Guernsey Literary and Potato Peel Pie Society', 'author': 'Mary Ann Shaffer', 'copies': 1}, '7766-4422': {'title': 'Fried Green Tomatoes at the Whistle Stop Cafe', 'author': 'Fannie Flagg', 'copies': 1}, '1010-1010': {'title': 'test book', 'author': 'test author', 'copies': 5}}\n",
      "------------------------------\n",
      "1, Title: History of Love, Author: Nelson Amandella\n",
      "2, Title: Justin time: the mummy, Author: Antony Moller\n",
      "------------------------------\n",
      "1. Insert New Book\n",
      "2. Delete Book\n",
      "3. Search\n",
      "4. Borrow Book\n",
      "5. Return Book\n",
      "6. Report of Borrowed Books\n",
      "7. Update Files\n",
      "8. Logout\n",
      "Enter Your Choice (1 - 8):2\n",
      "{'ali': {'pass': '111', 'numBooks': 3, 'borrowed': ['2222-1111', '1100-2200', '4444-4444']}, 'reza': {'pass': '1010', 'numBooks': 2, 'borrowed': ['1100-2200', '2222-1111']}, 'roya': {'pass': 'r0y4', 'numBooks': 2, 'borrowed': ['7766-4422', '1919-2020']}}\n",
      "{'1100-2200': {'title': 'History of Love', 'author': 'Nelson Amandella', 'copies': 3}, '2222-1111': {'title': 'Justin time: the mummy', 'author': 'Antony Moller', 'copies': 0}, '4444-4444': {'title': 'Killer Bill', 'author': 'Dorian Monster', 'copies': 4}, '5555-1020': {'title': 'The Curious Incident of the Dog in the Night-Time', 'author': 'Mark Haddon', 'copies': 2}, '1919-2020': {'title': 'The Guernsey Literary and Potato Peel Pie Society', 'author': 'Mary Ann Shaffer', 'copies': 1}, '7766-4422': {'title': 'Fried Green Tomatoes at the Whistle Stop Cafe', 'author': 'Fannie Flagg', 'copies': 1}, '1010-1010': {'title': 'test book', 'author': 'test author', 'copies': 5}}\n",
      "------------------------------\n",
      "ISBN Number: 1100-2200\n",
      "Book 'History of Love' was deleted successfully.\n",
      "------------------------------\n",
      "1. Insert New Book\n",
      "2. Delete Book\n",
      "3. Search\n",
      "4. Borrow Book\n",
      "5. Return Book\n",
      "6. Report of Borrowed Books\n",
      "7. Update Files\n",
      "8. Logout\n",
      "Enter Your Choice (1 - 8):3\n",
      "{'ali': {'pass': '111', 'numBooks': 2, 'borrowed': ['2222-1111', '4444-4444']}, 'reza': {'pass': '1010', 'numBooks': 1, 'borrowed': ['2222-1111']}, 'roya': {'pass': 'r0y4', 'numBooks': 2, 'borrowed': ['7766-4422', '1919-2020']}}\n",
      "{'2222-1111': {'title': 'Justin time: the mummy', 'author': 'Antony Moller', 'copies': 0}, '4444-4444': {'title': 'Killer Bill', 'author': 'Dorian Monster', 'copies': 4}, '5555-1020': {'title': 'The Curious Incident of the Dog in the Night-Time', 'author': 'Mark Haddon', 'copies': 2}, '1919-2020': {'title': 'The Guernsey Literary and Potato Peel Pie Society', 'author': 'Mary Ann Shaffer', 'copies': 1}, '7766-4422': {'title': 'Fried Green Tomatoes at the Whistle Stop Cafe', 'author': 'Fannie Flagg', 'copies': 1}, '1010-1010': {'title': 'test book', 'author': 'test author', 'copies': 5}}\n",
      "------------------------------\n"
     ]
    }
   ],
   "source": [
    "def mainMenu() :\n",
    "    makeDictionaries()\n",
    "    while True:\n",
    "        print(\"\\n1. Login\")\n",
    "        print(\"2. Exit\")\n",
    "        cmd = input(\"Enter Your Choice (1 or 2):\")\n",
    "        if cmd == '1' :\n",
    "            user = login()\n",
    "            if (user != False) :\n",
    "                libraryMenu(user)\n",
    "        elif cmd == '2':\n",
    "            print(\"Goodbye...\")\n",
    "            break\n",
    "        else:\n",
    "            print(\"Invalid Choice! you must enter 1 or 2\")\n",
    "    return\n",
    "mainMenu()"
   ]
  },
  {
   "cell_type": "code",
   "execution_count": null,
   "metadata": {},
   "outputs": [],
   "source": []
  }
 ],
 "metadata": {
  "kernelspec": {
   "display_name": "Python 3 (ipykernel)",
   "language": "python",
   "name": "python3"
  },
  "language_info": {
   "codemirror_mode": {
    "name": "ipython",
    "version": 3
   },
   "file_extension": ".py",
   "mimetype": "text/x-python",
   "name": "python",
   "nbconvert_exporter": "python",
   "pygments_lexer": "ipython3",
   "version": "3.7.13"
  }
 },
 "nbformat": 4,
 "nbformat_minor": 4
}
