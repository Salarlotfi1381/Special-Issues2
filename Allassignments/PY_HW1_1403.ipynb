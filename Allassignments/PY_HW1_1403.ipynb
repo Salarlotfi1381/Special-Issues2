{
 "cells": [
  {
   "cell_type": "markdown",
   "metadata": {},
   "source": [
    "### Loging in to the system"
   ]
  },
  {
   "cell_type": "code",
   "execution_count": null,
   "metadata": {},
   "outputs": [],
   "source": [
    "def login():\n",
    "    username = input(\"Username: \")\n",
    "    password = input(\"Pin number: \")\n",
    "    try :\n",
    "        if username == 'admin' and int(password) == 1234:\n",
    "            print(f\"---------------------\\nWelcome dear '{username}'\\n\")\n",
    "            return True\n",
    "        else:\n",
    "            print(\"\\nThe username or pin is incorrect.\\n\")\n",
    "            return False\n",
    "    except:\n",
    "        print(\"\\nThe username or pin is incorrect.\\n\")\n",
    "        return False"
   ]
  },
  {
   "cell_type": "markdown",
   "metadata": {},
   "source": [
    "### Part A: Showing the first menu until the user logins correctly or chooses to exit"
   ]
  },
  {
   "cell_type": "code",
   "execution_count": null,
   "metadata": {},
   "outputs": [],
   "source": [
    "def startMenu():\n",
    "    prompt = ''\n",
    "    loginFlag = False\n",
    "    while ((prompt != '1' and prompt != '2') or loginFlag != True) :\n",
    "        print(\"1. Login\\n2. Exit\")\n",
    "        prompt = input(\"Enter Your Choice (1/2): \")\n",
    "        if prompt == '2':\n",
    "            print(\"Exiting the Application....\")\n",
    "            print(\"Googbye\")\n",
    "            return False\n",
    "        elif prompt == '1':\n",
    "            loginFlag = login()\n",
    "        else:\n",
    "            print(\"\\nInvalid Prompt! enter a valid command (1 or 2).\\n\")\n",
    "    \n",
    "    return True"
   ]
  },
  {
   "cell_type": "markdown",
   "metadata": {},
   "source": [
    "### Opening an account for the user"
   ]
  },
  {
   "cell_type": "code",
   "execution_count": null,
   "metadata": {},
   "outputs": [],
   "source": [
    "def openAccount():\n",
    "    global accType\n",
    "    while True:\n",
    "        aType = input(\"What kind of account? (1 for Savings / 2 for Current)\")\n",
    "        try:\n",
    "            if int(aType) == 1 :\n",
    "                accType = 1\n",
    "                print(\"\\nA savings account has been opened.\\n\")\n",
    "                return 5000\n",
    "            elif int(aType) == 2 :\n",
    "                accType = 2\n",
    "                print(\"\\nA current account has been opened.\\n\")\n",
    "                return 2000\n",
    "            else:\n",
    "                print(\"\\nInvalid Account Type! Just enter a valid command (1 or 2).\\n\")\n",
    "        except:\n",
    "            print(\"\\nInvalid Account Type! Just enter a valid command (1 or 2).\\n\")"
   ]
  },
  {
   "cell_type": "markdown",
   "metadata": {},
   "source": [
    "### Checking the account balance and type, if any account exists"
   ]
  },
  {
   "cell_type": "code",
   "execution_count": null,
   "metadata": {},
   "outputs": [],
   "source": [
    "def checkAccount(balance=None, accType=None):\n",
    "    if balance is None or accType is None :\n",
    "        print(\"\\nCheck Account FAILED-- You must Open an Account at first\\n\")\n",
    "    else :\n",
    "        if accType == 1:\n",
    "            print(\"\\nAccount Type: Savings\")\n",
    "        else:\n",
    "            print(\"\\nAccount Type: Current\")\n",
    "        print(f\"Account Balance: {balance}\\n\")\n",
    "    return"
   ]
  },
  {
   "cell_type": "markdown",
   "metadata": {},
   "source": [
    "### Making a deposit of a positive amount in the account"
   ]
  },
  {
   "cell_type": "code",
   "execution_count": null,
   "metadata": {},
   "outputs": [],
   "source": [
    "def makeDeposit(balance):\n",
    "    if balance is not None:\n",
    "        fund = input(\"How much do you want to deposit?\") \n",
    "        try:\n",
    "            if int(fund) >= 0:\n",
    "                balance += int(fund)\n",
    "            else:\n",
    "                print(\"\\nDeposit FAILED-- Wrong input Value!!! It must be a positive number.\\n\")\n",
    "        except:\n",
    "            print(\"\\nDeposit FAILED-- Wrong input Value!!! It must be a positive number.\\n\")\n",
    "        print(f\"\\nYour Account Balance is: {balance}\\n\")\n",
    "    else:\n",
    "        print(\"\\nDeposit FAILED-- You must Open an Account at first\\n\")\n",
    "    return balance"
   ]
  },
  {
   "cell_type": "markdown",
   "metadata": {},
   "source": [
    "### Withdrawing a positive amount from the account"
   ]
  },
  {
   "cell_type": "code",
   "execution_count": null,
   "metadata": {},
   "outputs": [],
   "source": [
    "def withdraw(balance):http://localhost:8888/notebooks/Desktop/Python_1403-1/untitled%20folder/PY_HW1_1403.ipynb#Withrdawing-a-positive-amount-from-the-account\n",
    "    if balance is not None:\n",
    "        fund = input(\"How much do you want to withdraw?\") \n",
    "        try:\n",
    "            if int(fund) >= 0:\n",
    "                if int(fund) <= balance:\n",
    "                    balance -= int(fund)\n",
    "                else:\n",
    "                    print(f\"\\nWithdraw FAILED-- The maximum amount you can withdraw is {balance}\\n\")\n",
    "            else:\n",
    "                print(\"\\nWithdraw FAILED-- Wrong input Value!!! It must be a positive number.\\n\")\n",
    "        except:\n",
    "            print(\"\\nWithdraw FAILED-- Wrong input Value!!! It must be a positive number.\\n\")\n",
    "        print(f\"\\nYour Account Balance is: {balance}\\n\")\n",
    "    else:\n",
    "        print(\"\\nWithdraw FAILED-- You must Open an Account at first\\n\")\n",
    "    return balance"
   ]
  },
  {
   "cell_type": "markdown",
   "metadata": {},
   "source": [
    "### Calling functions and managing menues"
   ]
  },
  {
   "cell_type": "code",
   "execution_count": null,
   "metadata": {},
   "outputs": [],
   "source": [
    "balance = None\n",
    "accType = None\n",
    "# Loop until the user decide to Exit\n",
    "while True:\n",
    "    # A: Show the First Menu (login or exit)\n",
    "    nextMenuFlag = startMenu()\n",
    "    # decide to exit the program\n",
    "    if nextMenuFlag == False :\n",
    "        break\n",
    "\n",
    "    #B: Show the Second Menu\n",
    "    while nextMenuFlag == True:\n",
    "        print(\"1. Open Account\")\n",
    "        print(\"2. Check Account\")\n",
    "        print(\"3. Make Deposit\")\n",
    "        print(\"4. Withdraw Funds\")\n",
    "        print(\"5. Logout\")\n",
    "\n",
    "        prompt = input(\"Enter Your Choice (1/2/3/4/5): \")\n",
    "\n",
    "        if prompt == '1':\n",
    "            balance = openAccount()\n",
    "        elif prompt == '2':\n",
    "            print(balance, accType)\n",
    "            if balance is None or accType is None :\n",
    "                checkAccount()\n",
    "            else:\n",
    "                checkAccount(balance, accType)\n",
    "        elif prompt == '3':\n",
    "            balance = makeDeposit(balance)\n",
    "        elif prompt == '4':\n",
    "            balance = withdraw(balance)\n",
    "        elif prompt == '5':\n",
    "            #logout -> show start menu\n",
    "            nextMenuFlag = False\n",
    "            print(\"\\nYou Logged out. Bye...\\n\")\n",
    "        else:\n",
    "            print(\"\\nInvalid prompt! Please try again.\\n\")\n"
   ]
  }
 ],
 "metadata": {
  "kernelspec": {
   "display_name": "Python 3 (ipykernel)",
   "language": "python",
   "name": "python3"
  },
  "language_info": {
   "codemirror_mode": {
    "name": "ipython",
    "version": 3
   },
   "file_extension": ".py",
   "mimetype": "text/x-python",
   "name": "python",
   "nbconvert_exporter": "python",
   "pygments_lexer": "ipython3",
   "version": "3.7.13"
  }
 },
 "nbformat": 4,
 "nbformat_minor": 4
}
